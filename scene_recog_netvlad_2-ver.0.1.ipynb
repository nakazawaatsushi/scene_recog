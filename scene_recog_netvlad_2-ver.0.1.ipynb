{
 "cells": [
  {
   "cell_type": "code",
   "execution_count": 1,
   "metadata": {},
   "outputs": [
    {
     "name": "stderr",
     "output_type": "stream",
     "text": [
      "Using TensorFlow backend.\n"
     ]
    }
   ],
   "source": [
    "from keras.layers import Concatenate, Activation, Lambda, Subtract, Dot, Multiply\n",
    "from keras.layers import Input, Dense, Flatten, Convolution1D, RepeatVector, Add\n",
    "from keras.models import Model, Sequential\n",
    "from keras.initializers import Zeros\n",
    "from keras.applications.vgg19 import VGG19\n",
    "from keras.activations import softmax\n",
    "from keras import backend as K\n",
    "import sys, glob, math, os\n",
    "import cv2\n",
    "import numpy as np\n",
    "import re\n",
    "\n",
    "ncluster = 50\n",
    "nfeature = 196\n",
    "nfeature_dim = 512\n",
    "nbatch = 8"
   ]
  },
  {
   "cell_type": "code",
   "execution_count": 2,
   "metadata": {
    "collapsed": true
   },
   "outputs": [],
   "source": [
    "def custom_softmax(x):\n",
    "    y = softmax(x, axis=1)\n",
    "    return y"
   ]
  },
  {
   "cell_type": "code",
   "execution_count": 3,
   "metadata": {
    "collapsed": true
   },
   "outputs": [],
   "source": [
    "def transpose(x):\n",
    "    x = K.permute_dimensions(x,(1,2,0))\n",
    "    y = K.transpose(x)\n",
    "    return y"
   ]
  },
  {
   "cell_type": "code",
   "execution_count": 4,
   "metadata": {
    "collapsed": true
   },
   "outputs": [],
   "source": [
    "def make_feature_tensor(x,i,c):\n",
    "    # make [xi-c(1) xi-c(2) ... xi-c(n)] tensor\n",
    "    t = x[:,i,:]\n",
    "    z = K.repeat(t, ncluster)\n",
    "    z = z - c\n",
    "#    z = K.permute_dimensions(z,(0,1,2))\n",
    "    return z"
   ]
  },
  {
   "cell_type": "code",
   "execution_count": 5,
   "metadata": {
    "collapsed": true
   },
   "outputs": [],
   "source": [
    "def rep_tensor_and_mult(w,x,c,batch_size):\n",
    "    zz = K.zeros(shape=(batch_size,nfeature_dim,ncluster))\n",
    "    \n",
    "    for i in range(0,nfeature):\n",
    "        # Feature vector\n",
    "        t = x[:,i,:]\n",
    "        t = K.repeat(t, ncluster)\n",
    "        t = t - c\n",
    "        t = K.permute_dimensions(t,(1,2,0))\n",
    "        t = K.transpose(t)\n",
    "        \n",
    "        # Weight vector\n",
    "        ww = w[:,i,:]\n",
    "        z = K.repeat(ww, nfeature_dim)\n",
    "                \n",
    "        tmp = z*t\n",
    "        zz = zz + tmp\n",
    "        # K.update_add(zz,tmp)\n",
    "        #zz = zz + tmp\n",
    "        #zz = K.update_add(zz,tmp)\n",
    "    \n",
    "    return zz"
   ]
  },
  {
   "cell_type": "code",
   "execution_count": 6,
   "metadata": {},
   "outputs": [],
   "source": [
    "def L1_normalize(x):\n",
    "    #x = K.l2_normalize(x, axis=1)\n",
    "    x = x / K.sum(x, axis=1, keepdims=True)\n",
    "    return x"
   ]
  },
  {
   "cell_type": "code",
   "execution_count": 7,
   "metadata": {
    "collapsed": true
   },
   "outputs": [],
   "source": [
    "data = np.load(\"data.npy\")\n",
    "center = np.load(\"centers.npy\")\n",
    "centers = np.zeros((data.shape[0],center.shape[0],center.shape[1]))\n",
    "for i in range(0,data.shape[0]):\n",
    "    centers[i,:,:]=center\n",
    "\n",
    "me = np.load(\"mean.npy\")\n",
    "stv = np.load(\"stv.npy\")"
   ]
  },
  {
   "cell_type": "code",
   "execution_count": 8,
   "metadata": {
    "collapsed": true
   },
   "outputs": [],
   "source": [
    "def netvlad_model():\n",
    "    # input feature and cluster centers\n",
    "    x_input = Input([nfeature,nfeature_dim], name='x_input')\n",
    "    c_input = Input([ncluster,nfeature_dim], name='c_input')\n",
    "        \n",
    "    conv_1 = []\n",
    "        \n",
    "    for i in range(0,ncluster):\n",
    "        x = Convolution1D(1, 1, padding='same', use_bias=True)(x_input)\n",
    "        conv_1.append(x)\n",
    "    \n",
    "    w = Concatenate(axis=2)(conv_1)\n",
    "    w = Lambda(custom_softmax, name='cumstom_softmax')(w)\n",
    "    z = Lambda(rep_tensor_and_mult, arguments={'x': x_input,'c': c_input,'batch_size': nbatch}, name='rep_tensor_mult')(w)\n",
    "    z = Flatten()(z)\n",
    "    z = Lambda(L1_normalize)(z)\n",
    "    \n",
    "    model = Model(inputs=[x_input,c_input], outputs=z)\n",
    "    \n",
    "    model.summary()\n",
    " \n",
    "    return model\n",
    "#END vgg19_lower_model()"
   ]
  },
  {
   "cell_type": "code",
   "execution_count": 9,
   "metadata": {
    "scrolled": true
   },
   "outputs": [
    {
     "name": "stdout",
     "output_type": "stream",
     "text": [
      "(184, 196, 512)\n",
      "(184, 50, 512)\n",
      "(512,)\n",
      "(512,)\n"
     ]
    }
   ],
   "source": [
    "print(data.shape)\n",
    "print(centers.shape)\n",
    "print(me.shape)\n",
    "print(stv.shape)"
   ]
  },
  {
   "cell_type": "code",
   "execution_count": 10,
   "metadata": {
    "scrolled": true
   },
   "outputs": [
    {
     "name": "stdout",
     "output_type": "stream",
     "text": [
      "____________________________________________________________________________________________________\n",
      "Layer (type)                     Output Shape          Param #     Connected to                     \n",
      "====================================================================================================\n",
      "x_input (InputLayer)             (None, 196, 512)      0                                            \n",
      "____________________________________________________________________________________________________\n",
      "conv1d_1 (Conv1D)                (None, 196, 1)        513         x_input[0][0]                    \n",
      "____________________________________________________________________________________________________\n",
      "conv1d_2 (Conv1D)                (None, 196, 1)        513         x_input[0][0]                    \n",
      "____________________________________________________________________________________________________\n",
      "conv1d_3 (Conv1D)                (None, 196, 1)        513         x_input[0][0]                    \n",
      "____________________________________________________________________________________________________\n",
      "conv1d_4 (Conv1D)                (None, 196, 1)        513         x_input[0][0]                    \n",
      "____________________________________________________________________________________________________\n",
      "conv1d_5 (Conv1D)                (None, 196, 1)        513         x_input[0][0]                    \n",
      "____________________________________________________________________________________________________\n",
      "conv1d_6 (Conv1D)                (None, 196, 1)        513         x_input[0][0]                    \n",
      "____________________________________________________________________________________________________\n",
      "conv1d_7 (Conv1D)                (None, 196, 1)        513         x_input[0][0]                    \n",
      "____________________________________________________________________________________________________\n",
      "conv1d_8 (Conv1D)                (None, 196, 1)        513         x_input[0][0]                    \n",
      "____________________________________________________________________________________________________\n",
      "conv1d_9 (Conv1D)                (None, 196, 1)        513         x_input[0][0]                    \n",
      "____________________________________________________________________________________________________\n",
      "conv1d_10 (Conv1D)               (None, 196, 1)        513         x_input[0][0]                    \n",
      "____________________________________________________________________________________________________\n",
      "conv1d_11 (Conv1D)               (None, 196, 1)        513         x_input[0][0]                    \n",
      "____________________________________________________________________________________________________\n",
      "conv1d_12 (Conv1D)               (None, 196, 1)        513         x_input[0][0]                    \n",
      "____________________________________________________________________________________________________\n",
      "conv1d_13 (Conv1D)               (None, 196, 1)        513         x_input[0][0]                    \n",
      "____________________________________________________________________________________________________\n",
      "conv1d_14 (Conv1D)               (None, 196, 1)        513         x_input[0][0]                    \n",
      "____________________________________________________________________________________________________\n",
      "conv1d_15 (Conv1D)               (None, 196, 1)        513         x_input[0][0]                    \n",
      "____________________________________________________________________________________________________\n",
      "conv1d_16 (Conv1D)               (None, 196, 1)        513         x_input[0][0]                    \n",
      "____________________________________________________________________________________________________\n",
      "conv1d_17 (Conv1D)               (None, 196, 1)        513         x_input[0][0]                    \n",
      "____________________________________________________________________________________________________\n",
      "conv1d_18 (Conv1D)               (None, 196, 1)        513         x_input[0][0]                    \n",
      "____________________________________________________________________________________________________\n",
      "conv1d_19 (Conv1D)               (None, 196, 1)        513         x_input[0][0]                    \n",
      "____________________________________________________________________________________________________\n",
      "conv1d_20 (Conv1D)               (None, 196, 1)        513         x_input[0][0]                    \n",
      "____________________________________________________________________________________________________\n",
      "conv1d_21 (Conv1D)               (None, 196, 1)        513         x_input[0][0]                    \n",
      "____________________________________________________________________________________________________\n",
      "conv1d_22 (Conv1D)               (None, 196, 1)        513         x_input[0][0]                    \n",
      "____________________________________________________________________________________________________\n",
      "conv1d_23 (Conv1D)               (None, 196, 1)        513         x_input[0][0]                    \n",
      "____________________________________________________________________________________________________\n",
      "conv1d_24 (Conv1D)               (None, 196, 1)        513         x_input[0][0]                    \n",
      "____________________________________________________________________________________________________\n",
      "conv1d_25 (Conv1D)               (None, 196, 1)        513         x_input[0][0]                    \n",
      "____________________________________________________________________________________________________\n",
      "conv1d_26 (Conv1D)               (None, 196, 1)        513         x_input[0][0]                    \n",
      "____________________________________________________________________________________________________\n",
      "conv1d_27 (Conv1D)               (None, 196, 1)        513         x_input[0][0]                    \n",
      "____________________________________________________________________________________________________\n",
      "conv1d_28 (Conv1D)               (None, 196, 1)        513         x_input[0][0]                    \n",
      "____________________________________________________________________________________________________\n",
      "conv1d_29 (Conv1D)               (None, 196, 1)        513         x_input[0][0]                    \n",
      "____________________________________________________________________________________________________\n",
      "conv1d_30 (Conv1D)               (None, 196, 1)        513         x_input[0][0]                    \n",
      "____________________________________________________________________________________________________\n",
      "conv1d_31 (Conv1D)               (None, 196, 1)        513         x_input[0][0]                    \n",
      "____________________________________________________________________________________________________\n",
      "conv1d_32 (Conv1D)               (None, 196, 1)        513         x_input[0][0]                    \n",
      "____________________________________________________________________________________________________\n",
      "conv1d_33 (Conv1D)               (None, 196, 1)        513         x_input[0][0]                    \n",
      "____________________________________________________________________________________________________\n",
      "conv1d_34 (Conv1D)               (None, 196, 1)        513         x_input[0][0]                    \n",
      "____________________________________________________________________________________________________\n",
      "conv1d_35 (Conv1D)               (None, 196, 1)        513         x_input[0][0]                    \n",
      "____________________________________________________________________________________________________\n",
      "conv1d_36 (Conv1D)               (None, 196, 1)        513         x_input[0][0]                    \n",
      "____________________________________________________________________________________________________\n",
      "conv1d_37 (Conv1D)               (None, 196, 1)        513         x_input[0][0]                    \n",
      "____________________________________________________________________________________________________\n",
      "conv1d_38 (Conv1D)               (None, 196, 1)        513         x_input[0][0]                    \n",
      "____________________________________________________________________________________________________\n",
      "conv1d_39 (Conv1D)               (None, 196, 1)        513         x_input[0][0]                    \n",
      "____________________________________________________________________________________________________\n",
      "conv1d_40 (Conv1D)               (None, 196, 1)        513         x_input[0][0]                    \n",
      "____________________________________________________________________________________________________\n",
      "conv1d_41 (Conv1D)               (None, 196, 1)        513         x_input[0][0]                    \n",
      "____________________________________________________________________________________________________\n",
      "conv1d_42 (Conv1D)               (None, 196, 1)        513         x_input[0][0]                    \n",
      "____________________________________________________________________________________________________\n",
      "conv1d_43 (Conv1D)               (None, 196, 1)        513         x_input[0][0]                    \n",
      "____________________________________________________________________________________________________\n",
      "conv1d_44 (Conv1D)               (None, 196, 1)        513         x_input[0][0]                    \n",
      "____________________________________________________________________________________________________\n",
      "conv1d_45 (Conv1D)               (None, 196, 1)        513         x_input[0][0]                    \n",
      "____________________________________________________________________________________________________\n",
      "conv1d_46 (Conv1D)               (None, 196, 1)        513         x_input[0][0]                    \n",
      "____________________________________________________________________________________________________\n",
      "conv1d_47 (Conv1D)               (None, 196, 1)        513         x_input[0][0]                    \n",
      "____________________________________________________________________________________________________\n",
      "conv1d_48 (Conv1D)               (None, 196, 1)        513         x_input[0][0]                    \n",
      "____________________________________________________________________________________________________\n",
      "conv1d_49 (Conv1D)               (None, 196, 1)        513         x_input[0][0]                    \n",
      "____________________________________________________________________________________________________\n",
      "conv1d_50 (Conv1D)               (None, 196, 1)        513         x_input[0][0]                    \n",
      "____________________________________________________________________________________________________\n",
      "concatenate_1 (Concatenate)      (None, 196, 50)       0           conv1d_1[0][0]                   \n",
      "                                                                   conv1d_2[0][0]                   \n",
      "                                                                   conv1d_3[0][0]                   \n",
      "                                                                   conv1d_4[0][0]                   \n",
      "                                                                   conv1d_5[0][0]                   \n",
      "                                                                   conv1d_6[0][0]                   \n",
      "                                                                   conv1d_7[0][0]                   \n",
      "                                                                   conv1d_8[0][0]                   \n",
      "                                                                   conv1d_9[0][0]                   \n",
      "                                                                   conv1d_10[0][0]                  \n",
      "                                                                   conv1d_11[0][0]                  \n",
      "                                                                   conv1d_12[0][0]                  \n",
      "                                                                   conv1d_13[0][0]                  \n",
      "                                                                   conv1d_14[0][0]                  \n",
      "                                                                   conv1d_15[0][0]                  \n",
      "                                                                   conv1d_16[0][0]                  \n",
      "                                                                   conv1d_17[0][0]                  \n",
      "                                                                   conv1d_18[0][0]                  \n",
      "                                                                   conv1d_19[0][0]                  \n",
      "                                                                   conv1d_20[0][0]                  \n",
      "                                                                   conv1d_21[0][0]                  \n",
      "                                                                   conv1d_22[0][0]                  \n",
      "                                                                   conv1d_23[0][0]                  \n",
      "                                                                   conv1d_24[0][0]                  \n",
      "                                                                   conv1d_25[0][0]                  \n",
      "                                                                   conv1d_26[0][0]                  \n",
      "                                                                   conv1d_27[0][0]                  \n",
      "                                                                   conv1d_28[0][0]                  \n",
      "                                                                   conv1d_29[0][0]                  \n",
      "                                                                   conv1d_30[0][0]                  \n",
      "                                                                   conv1d_31[0][0]                  \n",
      "                                                                   conv1d_32[0][0]                  \n",
      "                                                                   conv1d_33[0][0]                  \n",
      "                                                                   conv1d_34[0][0]                  \n",
      "                                                                   conv1d_35[0][0]                  \n",
      "                                                                   conv1d_36[0][0]                  \n",
      "                                                                   conv1d_37[0][0]                  \n",
      "                                                                   conv1d_38[0][0]                  \n",
      "                                                                   conv1d_39[0][0]                  \n",
      "                                                                   conv1d_40[0][0]                  \n",
      "                                                                   conv1d_41[0][0]                  \n",
      "                                                                   conv1d_42[0][0]                  \n",
      "                                                                   conv1d_43[0][0]                  \n",
      "                                                                   conv1d_44[0][0]                  \n",
      "                                                                   conv1d_45[0][0]                  \n",
      "                                                                   conv1d_46[0][0]                  \n",
      "                                                                   conv1d_47[0][0]                  \n",
      "                                                                   conv1d_48[0][0]                  \n",
      "                                                                   conv1d_49[0][0]                  \n",
      "                                                                   conv1d_50[0][0]                  \n",
      "____________________________________________________________________________________________________\n",
      "cumstom_softmax (Lambda)         (None, 196, 50)       0           concatenate_1[0][0]              \n",
      "____________________________________________________________________________________________________\n",
      "rep_tensor_mult (Lambda)         (8, 512, 50)          0           cumstom_softmax[0][0]            \n",
      "____________________________________________________________________________________________________\n",
      "flatten_1 (Flatten)              (8, 25600)            0           rep_tensor_mult[0][0]            \n",
      "____________________________________________________________________________________________________\n",
      "lambda_1 (Lambda)                (8, 25600)            0           flatten_1[0][0]                  \n",
      "====================================================================================================\n",
      "Total params: 25,650\n",
      "Trainable params: 25,650\n",
      "Non-trainable params: 0\n",
      "____________________________________________________________________________________________________\n"
     ]
    }
   ],
   "source": [
    "model = netvlad_model()"
   ]
  },
  {
   "cell_type": "code",
   "execution_count": 11,
   "metadata": {},
   "outputs": [
    {
     "name": "stdout",
     "output_type": "stream",
     "text": [
      "184/184 [==============================] - 4s     \n"
     ]
    }
   ],
   "source": [
    "pred = model.predict([data,centers], batch_size=nbatch, verbose=1)"
   ]
  },
  {
   "cell_type": "code",
   "execution_count": 12,
   "metadata": {},
   "outputs": [
    {
     "name": "stdout",
     "output_type": "stream",
     "text": [
      "(184, 25600)\n",
      "[  1.14085606e-06   1.35091136e-06   8.45598549e-07 ...,  -8.43863745e-07\n",
      "   9.57737029e-07  -8.31367015e-06]\n"
     ]
    }
   ],
   "source": [
    "print(pred.shape)\n",
    "print(pred[0,:])"
   ]
  },
  {
   "cell_type": "code",
   "execution_count": 13,
   "metadata": {},
   "outputs": [],
   "source": [
    "#from keras.utils import plot_model\n",
    "#\n",
    "#plot_model(model, to_file='model.png')"
   ]
  },
  {
   "cell_type": "code",
   "execution_count": 13,
   "metadata": {},
   "outputs": [
    {
     "name": "stdout",
     "output_type": "stream",
     "text": [
      "[  1.14085606e-06   1.35091136e-06   8.45598549e-07 ...,  -8.43863745e-07\n",
      "   9.57737029e-07  -8.31367015e-06]\n",
      "1.00000010941\n"
     ]
    }
   ],
   "source": [
    "print(pred[0,:])\n",
    "print(sum(pred[100,:]))"
   ]
  },
  {
   "cell_type": "code",
   "execution_count": null,
   "metadata": {
    "collapsed": true
   },
   "outputs": [],
   "source": []
  }
 ],
 "metadata": {
  "kernelspec": {
   "display_name": "Python [conda env:py3-tf2-keras2]",
   "language": "python",
   "name": "conda-env-py3-tf2-keras2-py"
  },
  "language_info": {
   "codemirror_mode": {
    "name": "ipython",
    "version": 3
   },
   "file_extension": ".py",
   "mimetype": "text/x-python",
   "name": "python",
   "nbconvert_exporter": "python",
   "pygments_lexer": "ipython3",
   "version": "3.5.4"
  }
 },
 "nbformat": 4,
 "nbformat_minor": 2
}
