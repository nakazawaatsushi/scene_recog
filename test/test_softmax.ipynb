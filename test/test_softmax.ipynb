{
 "cells": [
  {
   "cell_type": "code",
   "execution_count": 11,
   "metadata": {},
   "outputs": [],
   "source": [
    "from keras.layers import Input, Dense, Flatten, Convolution1D\n",
    "from keras.layers import Concatenate, Activation, Lambda, Subtract, Dot, Multiply\n",
    "from keras.models import Model, Sequential\n",
    "from keras.layers import multiply\n",
    "from keras.initializers import Zeros\n",
    "from keras.applications.vgg19 import VGG19\n",
    "from keras.engine.topology import Layer\n",
    "from keras.activations import softmax\n",
    "from keras import backend as K\n",
    "import sys, glob, math, os\n",
    "import cv2\n",
    "import numpy as np\n",
    "import re\n",
    "\n",
    "input_size = [5, 10]\n",
    "input_size1 = [3, 3, 4]\n",
    "input_size2 = [3]"
   ]
  },
  {
   "cell_type": "code",
   "execution_count": 12,
   "metadata": {
    "collapsed": true
   },
   "outputs": [],
   "source": [
    "def custom_softmax(x):\n",
    "    y = softmax(x, axis=2)\n",
    "    return y"
   ]
  },
  {
   "cell_type": "code",
   "execution_count": 19,
   "metadata": {},
   "outputs": [],
   "source": [
    "def custom_mult(x):\n",
    "    z = multiply(x)\n",
    "    return z"
   ]
  },
  {
   "cell_type": "code",
   "execution_count": null,
   "metadata": {
    "collapsed": true
   },
   "outputs": [],
   "source": [
    "def custom_mult2(x):\n",
    "    \n",
    "    \n",
    "    \n",
    "    return z"
   ]
  },
  {
   "cell_type": "code",
   "execution_count": 20,
   "metadata": {
    "collapsed": true
   },
   "outputs": [],
   "source": [
    "def test_model():\n",
    "    inputs = Input(input_size)\n",
    "    \n",
    "    #out = MySoftmax()(inputs)\n",
    "    \n",
    "    #out = Lambda(antirectifier, output_shape=antirectifier_output_shape)(inputs)\n",
    "    out = Lambda(custom_softmax)(inputs)\n",
    "    \n",
    "    model = Model(inputs=inputs, outputs=out)\n",
    "    \n",
    "    model.summary()\n",
    " \n",
    "    return model\n",
    "#END vgg19_lower_model()"
   ]
  },
  {
   "cell_type": "code",
   "execution_count": 21,
   "metadata": {
    "collapsed": true
   },
   "outputs": [],
   "source": [
    "def test_model_2inputs():\n",
    "    x = Input(input_size, name='x')\n",
    "    c = Input(input_size, name='c')\n",
    "    \n",
    "    y = Subtract()([x,c])\n",
    "    z = Multiply()([x,y])\n",
    "    \n",
    "    model = Model(inputs=[x,c], outputs=z)\n",
    "    \n",
    "    return model\n",
    "    "
   ]
  },
  {
   "cell_type": "code",
   "execution_count": 22,
   "metadata": {
    "collapsed": true
   },
   "outputs": [],
   "source": [
    "def test_model_2inputs2():\n",
    "    x = Input(input_size, name='x')\n",
    "    c = Input(input_size, name='c')\n",
    "    \n",
    "#    y = Subtract()([x,c])\n",
    "#    z = Multiply()([x,y])\n",
    "    z = Lambda(custom_mult)([x,c])\n",
    "    \n",
    "    model = Model(inputs=[x,c], outputs=z)\n",
    "    \n",
    "    return model"
   ]
  },
  {
   "cell_type": "code",
   "execution_count": 23,
   "metadata": {
    "collapsed": true
   },
   "outputs": [],
   "source": [
    "from numpy.random import *\n",
    "\n",
    "#data = rand(32,5,10)\n",
    "data = 0.5*np.ones((32,5,10))\n",
    "data2 = 0.8*np.ones((32,5,10))\n"
   ]
  },
  {
   "cell_type": "code",
   "execution_count": 24,
   "metadata": {},
   "outputs": [
    {
     "name": "stdout",
     "output_type": "stream",
     "text": [
      "32/32 [==============================] - 0s\n"
     ]
    }
   ],
   "source": [
    "#model = test_model()\n",
    "#pred = model.predict(data, batch_size=32, verbose=1)\n",
    "\n",
    "model = test_model_2inputs2()\n",
    "pred = model.predict([data,data2], batch_size=32, verbose=1)\n"
   ]
  },
  {
   "cell_type": "code",
   "execution_count": 25,
   "metadata": {},
   "outputs": [
    {
     "name": "stdout",
     "output_type": "stream",
     "text": [
      "[[ 0.5  0.5  0.5  0.5  0.5  0.5  0.5  0.5  0.5  0.5]\n",
      " [ 0.5  0.5  0.5  0.5  0.5  0.5  0.5  0.5  0.5  0.5]\n",
      " [ 0.5  0.5  0.5  0.5  0.5  0.5  0.5  0.5  0.5  0.5]\n",
      " [ 0.5  0.5  0.5  0.5  0.5  0.5  0.5  0.5  0.5  0.5]\n",
      " [ 0.5  0.5  0.5  0.5  0.5  0.5  0.5  0.5  0.5  0.5]]\n",
      "[[ 0.8  0.8  0.8  0.8  0.8  0.8  0.8  0.8  0.8  0.8]\n",
      " [ 0.8  0.8  0.8  0.8  0.8  0.8  0.8  0.8  0.8  0.8]\n",
      " [ 0.8  0.8  0.8  0.8  0.8  0.8  0.8  0.8  0.8  0.8]\n",
      " [ 0.8  0.8  0.8  0.8  0.8  0.8  0.8  0.8  0.8  0.8]\n",
      " [ 0.8  0.8  0.8  0.8  0.8  0.8  0.8  0.8  0.8  0.8]]\n",
      "[[ 0.40000001  0.40000001  0.40000001  0.40000001  0.40000001  0.40000001\n",
      "   0.40000001  0.40000001  0.40000001  0.40000001]\n",
      " [ 0.40000001  0.40000001  0.40000001  0.40000001  0.40000001  0.40000001\n",
      "   0.40000001  0.40000001  0.40000001  0.40000001]\n",
      " [ 0.40000001  0.40000001  0.40000001  0.40000001  0.40000001  0.40000001\n",
      "   0.40000001  0.40000001  0.40000001  0.40000001]\n",
      " [ 0.40000001  0.40000001  0.40000001  0.40000001  0.40000001  0.40000001\n",
      "   0.40000001  0.40000001  0.40000001  0.40000001]\n",
      " [ 0.40000001  0.40000001  0.40000001  0.40000001  0.40000001  0.40000001\n",
      "   0.40000001  0.40000001  0.40000001  0.40000001]]\n"
     ]
    }
   ],
   "source": [
    "print(data[0])\n",
    "print(data2[0])\n",
    "print(pred[0])"
   ]
  },
  {
   "cell_type": "code",
   "execution_count": null,
   "metadata": {
    "collapsed": true
   },
   "outputs": [],
   "source": []
  },
  {
   "cell_type": "code",
   "execution_count": null,
   "metadata": {
    "collapsed": true
   },
   "outputs": [],
   "source": []
  }
 ],
 "metadata": {
  "kernelspec": {
   "display_name": "Python [conda env:py3-tf2-keras2]",
   "language": "python",
   "name": "conda-env-py3-tf2-keras2-py"
  },
  "language_info": {
   "codemirror_mode": {
    "name": "ipython",
    "version": 3
   },
   "file_extension": ".py",
   "mimetype": "text/x-python",
   "name": "python",
   "nbconvert_exporter": "python",
   "pygments_lexer": "ipython3",
   "version": "3.5.4"
  }
 },
 "nbformat": 4,
 "nbformat_minor": 2
}
