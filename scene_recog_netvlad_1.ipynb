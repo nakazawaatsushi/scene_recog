{
 "cells": [
  {
   "cell_type": "code",
   "execution_count": 1,
   "metadata": {},
   "outputs": [
    {
     "name": "stderr",
     "output_type": "stream",
     "text": [
      "Using TensorFlow backend.\n"
     ]
    }
   ],
   "source": [
    "from keras.layers import Input, Dense, Flatten\n",
    "from keras.models import Model, Sequential\n",
    "from keras.applications.vgg19 import VGG19\n",
    "import sys, glob, math, os\n",
    "import cv2\n",
    "import numpy as np\n",
    "import re\n",
    "\n",
    "# image sizes\n",
    "img_rows, img_cols = 224, 224"
   ]
  },
  {
   "cell_type": "code",
   "execution_count": 2,
   "metadata": {
    "collapsed": true
   },
   "outputs": [],
   "source": [
    "def vgg19_lower_model():\n",
    "    # initial model, load vgg19\n",
    "    vgg19 = VGG19(include_top=True, weights='imagenet', input_tensor=None, input_shape=None)\n",
    "    vgg19.summary()\n",
    "\n",
    "    # new model that takes first 10 layers of VGG19\n",
    "    model = Sequential()\n",
    "    model.add(vgg19.get_layer('input_1'))\n",
    "    model.add(vgg19.get_layer('block1_conv1'))\n",
    "    model.add(vgg19.get_layer('block1_conv2'))\n",
    "    model.add(vgg19.get_layer('block1_pool'))\n",
    "    model.add(vgg19.get_layer('block2_conv1'))\n",
    "    model.add(vgg19.get_layer('block2_conv2'))\n",
    "    model.add(vgg19.get_layer('block2_pool'))\n",
    "    model.add(vgg19.get_layer('block3_conv1'))\n",
    "    model.add(vgg19.get_layer('block3_conv2'))\n",
    "    model.add(vgg19.get_layer('block3_conv3'))\n",
    "    model.add(vgg19.get_layer('block3_conv4'))\n",
    "    model.add(vgg19.get_layer('block3_pool'))\n",
    "    model.add(vgg19.get_layer('block4_conv1'))\n",
    "    model.add(vgg19.get_layer('block4_conv2'))\n",
    "    model.add(vgg19.get_layer('block4_conv3'))\n",
    "    model.add(vgg19.get_layer('block4_conv4'))\n",
    "    model.add(vgg19.get_layer('block4_pool'))\n",
    "#    model.add(vgg19.get_layer('block5_conv1'))\n",
    "#    model.add(vgg19.get_layer('block5_conv2'))\n",
    "#    model.add(vgg19.get_layer('block5_conv3'))\n",
    "#    model.add(vgg19.get_layer('block5_conv4'))\n",
    "#    model.add(vgg19.get_layer('block5_pool'))\n",
    "#    model.add(Flatten())\n",
    "    model.summary()\n",
    " \n",
    "    return model\n",
    "#END vgg19_lower_model()"
   ]
  },
  {
   "cell_type": "code",
   "execution_count": 3,
   "metadata": {
    "collapsed": true
   },
   "outputs": [],
   "source": [
    "def load_imgs(dir,normalize=0):\n",
    "    # load image data from dir\n",
    "\n",
    "    data = []\n",
    "    fname = []\n",
    "    path  = dir + '/scene*.JPG'\n",
    "    files = sorted(glob.glob(path))\n",
    "\n",
    "    for fl in files:\n",
    "        flbase = os.path.basename(fl)\n",
    "        print('reading %s'%format(fl))\n",
    "\n",
    "        img = cv2.imread(fl)\n",
    "        img = cv2.resize(img, (img_rows,img_cols))\n",
    "        img = np.array(img, dtype=np.float32)\n",
    "        if normalize == 1:\n",
    "            img -= np.mean(img)\n",
    "            img /= np.std(img)\n",
    "\n",
    "        data.append(img)\n",
    "        fname.append(fl)\n",
    "\n",
    "    data = np.array(data,dtype=np.float32)\n",
    "\n",
    "    return data, fname\n",
    "# end of load_imgs"
   ]
  },
  {
   "cell_type": "code",
   "execution_count": 4,
   "metadata": {
    "collapsed": true
   },
   "outputs": [],
   "source": [
    "def get_id_from_fname(str):\n",
    "    \n",
    "    m = re.match(r\"([a-z/]+)([0-9]+)([a-z]+).[a-zA-Z]\",str)\n",
    "\n",
    "    if m:\n",
    "    #    print(\"found!\")\n",
    "        id = int(m.group(2))\n",
    "    #    print(id)\n",
    "    else:\n",
    "    #    print(\"not found!\")\n",
    "        id = -1\n",
    "    \n",
    "    return id\n",
    "#end of get_id_from_frame"
   ]
  },
  {
   "cell_type": "code",
   "execution_count": 5,
   "metadata": {
    "collapsed": true
   },
   "outputs": [],
   "source": [
    "def save_array_csv(fname,val):\n",
    "\n",
    "    f = open(fname, 'w')\n",
    "\n",
    "    for i in range(0,val.shape[0]):\n",
    "        for j in range(0,val.shape[1]):\n",
    "            for k in range(0,val.shape[2]):\n",
    "                f.write(\"%d, %d, %d, \"%(i,j,k)) \n",
    "                print(\"%d, %d, %d, \"%(i,j,k)) \n",
    "                for l in range(0,val.shape[3]):\n",
    "                    f.write(\"%f, \"%(val[i][j][k][l]))\n",
    "                f.write(\"\\n\") \n",
    "\n",
    "    f.close()\n",
    "#end of save_array_csv"
   ]
  },
  {
   "cell_type": "code",
   "execution_count": 6,
   "metadata": {},
   "outputs": [
    {
     "name": "stdout",
     "output_type": "stream",
     "text": [
      "reading scenes/scene007a.JPG\n",
      "reading scenes/scene007b.JPG\n",
      "reading scenes/scene007c.JPG\n",
      "reading scenes/scene007d.JPG\n",
      "reading scenes/scene007e.JPG\n",
      "reading scenes/scene007f.JPG\n",
      "reading scenes/scene007g.JPG\n",
      "reading scenes/scene008a.JPG\n",
      "reading scenes/scene008b.JPG\n",
      "reading scenes/scene009a.JPG\n",
      "reading scenes/scene009b.JPG\n",
      "reading scenes/scene009c.JPG\n",
      "reading scenes/scene009d.JPG\n",
      "reading scenes/scene009e.JPG\n",
      "reading scenes/scene009f.JPG\n",
      "reading scenes/scene010a.JPG\n",
      "reading scenes/scene010b.JPG\n",
      "reading scenes/scene010c.JPG\n",
      "reading scenes/scene010d.JPG\n",
      "reading scenes/scene011a.JPG\n",
      "reading scenes/scene011b.JPG\n",
      "reading scenes/scene011c.JPG\n",
      "reading scenes/scene012a.JPG\n",
      "reading scenes/scene012b.JPG\n",
      "reading scenes/scene012c.JPG\n",
      "reading scenes/scene012d.JPG\n",
      "reading scenes/scene013a.JPG\n",
      "reading scenes/scene013b.JPG\n",
      "reading scenes/scene013c.JPG\n",
      "reading scenes/scene013d.JPG\n",
      "reading scenes/scene014a.JPG\n",
      "reading scenes/scene014b.JPG\n",
      "reading scenes/scene014c.JPG\n",
      "reading scenes/scene014d.JPG\n",
      "reading scenes/scene015a.JPG\n",
      "reading scenes/scene015b.JPG\n",
      "reading scenes/scene015c.JPG\n",
      "reading scenes/scene015d.JPG\n",
      "reading scenes/scene015e.JPG\n",
      "reading scenes/scene016a.JPG\n",
      "reading scenes/scene016b.JPG\n",
      "reading scenes/scene016c.JPG\n",
      "reading scenes/scene016d.JPG\n",
      "reading scenes/scene016e.JPG\n",
      "reading scenes/scene017a.JPG\n",
      "reading scenes/scene017b.JPG\n",
      "reading scenes/scene017c.JPG\n",
      "reading scenes/scene017d.JPG\n",
      "reading scenes/scene017e.JPG\n",
      "reading scenes/scene017f.JPG\n",
      "reading scenes/scene017g.JPG\n",
      "reading scenes/scene018a.JPG\n",
      "reading scenes/scene018b.JPG\n",
      "reading scenes/scene018c.JPG\n",
      "reading scenes/scene018d.JPG\n",
      "reading scenes/scene018e.JPG\n",
      "reading scenes/scene019a.JPG\n",
      "reading scenes/scene019b.JPG\n",
      "reading scenes/scene019c.JPG\n",
      "reading scenes/scene019d.JPG\n",
      "reading scenes/scene019e.JPG\n",
      "reading scenes/scene020a.JPG\n",
      "reading scenes/scene020b.JPG\n",
      "reading scenes/scene020c.JPG\n",
      "reading scenes/scene020d.JPG\n",
      "reading scenes/scene021a.JPG\n",
      "reading scenes/scene021b.JPG\n",
      "reading scenes/scene021c.JPG\n",
      "reading scenes/scene021d.JPG\n",
      "reading scenes/scene021e.JPG\n",
      "reading scenes/scene021f.JPG\n",
      "reading scenes/scene021g.JPG\n",
      "reading scenes/scene022a.JPG\n",
      "reading scenes/scene022b.JPG\n",
      "reading scenes/scene022c.JPG\n",
      "reading scenes/scene022d.JPG\n",
      "reading scenes/scene022e.JPG\n",
      "reading scenes/scene023a.JPG\n",
      "reading scenes/scene023b.JPG\n",
      "reading scenes/scene023c.JPG\n",
      "reading scenes/scene023d.JPG\n",
      "reading scenes/scene023e.JPG\n",
      "reading scenes/scene023f.JPG\n",
      "reading scenes/scene023g.JPG\n",
      "reading scenes/scene024a.JPG\n",
      "reading scenes/scene024b.JPG\n",
      "reading scenes/scene024c.JPG\n",
      "reading scenes/scene024d.JPG\n",
      "reading scenes/scene024e.JPG\n",
      "reading scenes/scene024f.JPG\n",
      "reading scenes/scene025a.JPG\n",
      "reading scenes/scene025b.JPG\n",
      "reading scenes/scene025c.JPG\n",
      "reading scenes/scene025d.JPG\n",
      "reading scenes/scene026a.JPG\n",
      "reading scenes/scene026b.JPG\n",
      "reading scenes/scene026c.JPG\n",
      "reading scenes/scene026d.JPG\n",
      "reading scenes/scene027a.JPG\n",
      "reading scenes/scene027b.JPG\n",
      "reading scenes/scene027c.JPG\n",
      "reading scenes/scene027d.JPG\n",
      "reading scenes/scene027e.JPG\n",
      "reading scenes/scene027f.JPG\n",
      "reading scenes/scene027g.JPG\n",
      "reading scenes/scene027h.JPG\n",
      "reading scenes/scene027i.JPG\n",
      "reading scenes/scene027j.JPG\n",
      "reading scenes/scene027k.JPG\n",
      "reading scenes/scene027l.JPG\n",
      "reading scenes/scene027m.JPG\n",
      "reading scenes/scene027n.JPG\n",
      "reading scenes/scene027o.JPG\n",
      "reading scenes/scene027p.JPG\n",
      "reading scenes/scene027q.JPG\n",
      "reading scenes/scene028a.JPG\n",
      "reading scenes/scene028b.JPG\n",
      "reading scenes/scene028c.JPG\n",
      "reading scenes/scene028d.JPG\n",
      "reading scenes/scene028e.JPG\n",
      "reading scenes/scene029a.JPG\n",
      "reading scenes/scene029b.JPG\n",
      "reading scenes/scene029c.JPG\n",
      "reading scenes/scene030a.JPG\n",
      "reading scenes/scene031a.JPG\n",
      "reading scenes/scene031b.JPG\n",
      "reading scenes/scene031c.JPG\n",
      "reading scenes/scene031d.JPG\n",
      "reading scenes/scene032a.JPG\n",
      "reading scenes/scene032b.JPG\n",
      "reading scenes/scene032c.JPG\n",
      "reading scenes/scene032d.JPG\n",
      "reading scenes/scene032e.JPG\n",
      "reading scenes/scene032fa.JPG\n",
      "reading scenes/scene033a.JPG\n",
      "reading scenes/scene033b.JPG\n",
      "reading scenes/scene033c.JPG\n",
      "reading scenes/scene033d.JPG\n",
      "reading scenes/scene034a.JPG\n",
      "reading scenes/scene034b.JPG\n",
      "reading scenes/scene034c.JPG\n",
      "reading scenes/scene034d.JPG\n",
      "reading scenes/scene034e.JPG\n",
      "reading scenes/scene034f.JPG\n",
      "reading scenes/scene034g.JPG\n",
      "reading scenes/scene035a.JPG\n",
      "reading scenes/scene035b.JPG\n",
      "reading scenes/scene035c.JPG\n",
      "reading scenes/scene035d.JPG\n",
      "reading scenes/scene036a.JPG\n",
      "reading scenes/scene036b.JPG\n",
      "reading scenes/scene036c.JPG\n",
      "reading scenes/scene036d.JPG\n",
      "reading scenes/scene037e.JPG\n",
      "reading scenes/scene038a.JPG\n",
      "reading scenes/scene038b.JPG\n",
      "reading scenes/scene038c.JPG\n",
      "reading scenes/scene038d.JPG\n",
      "reading scenes/scene039a.JPG\n",
      "reading scenes/scene039b.JPG\n",
      "reading scenes/scene039c.JPG\n",
      "reading scenes/scene039d.JPG\n",
      "reading scenes/scene040a.JPG\n",
      "reading scenes/scene040b.JPG\n",
      "reading scenes/scene040c.JPG\n",
      "reading scenes/scene041a.JPG\n",
      "reading scenes/scene041b.JPG\n",
      "reading scenes/scene041c.JPG\n",
      "reading scenes/scene041d.JPG\n",
      "reading scenes/scene041e.JPG\n",
      "reading scenes/scene042a.JPG\n",
      "reading scenes/scene042b.JPG\n",
      "reading scenes/scene042c.JPG\n",
      "reading scenes/scene042d.JPG\n",
      "reading scenes/scene043a.JPG\n",
      "reading scenes/scene043b.JPG\n",
      "reading scenes/scene043c.JPG\n",
      "reading scenes/scene043d.JPG\n",
      "reading scenes/scene044a.JPG\n",
      "reading scenes/scene044b.JPG\n",
      "reading scenes/scene044c.JPG\n",
      "reading scenes/scene044d.JPG\n",
      "reading scenes/scene044e.JPG\n",
      "reading scenes/scene044f.JPG\n",
      "(184, 224, 224, 3)\n"
     ]
    }
   ],
   "source": [
    "if __name__=='__main__':\n",
    "\n",
    "    data,fname = load_imgs('scenes',1) \n",
    "    print(data.shape)"
   ]
  },
  {
   "cell_type": "code",
   "execution_count": 7,
   "metadata": {},
   "outputs": [
    {
     "ename": "ResourceExhaustedError",
     "evalue": "OOM when allocating tensor with shape[25088,4096]\n\t [[Node: fc1/random_uniform/RandomUniform = RandomUniform[T=DT_INT32, dtype=DT_FLOAT, seed=87654321, seed2=4048235, _device=\"/job:localhost/replica:0/task:0/gpu:0\"](fc1/random_uniform/shape)]]\n\nCaused by op 'fc1/random_uniform/RandomUniform', defined at:\n  File \"/home/nakazawa/anaconda3/envs/py3-tf2-keras2/lib/python3.5/runpy.py\", line 193, in _run_module_as_main\n    \"__main__\", mod_spec)\n  File \"/home/nakazawa/anaconda3/envs/py3-tf2-keras2/lib/python3.5/runpy.py\", line 85, in _run_code\n    exec(code, run_globals)\n  File \"/home/nakazawa/anaconda3/envs/py3-tf2-keras2/lib/python3.5/site-packages/ipykernel/__main__.py\", line 3, in <module>\n    app.launch_new_instance()\n  File \"/home/nakazawa/anaconda3/envs/py3-tf2-keras2/lib/python3.5/site-packages/traitlets/config/application.py\", line 658, in launch_instance\n    app.start()\n  File \"/home/nakazawa/anaconda3/envs/py3-tf2-keras2/lib/python3.5/site-packages/ipykernel/kernelapp.py\", line 477, in start\n    ioloop.IOLoop.instance().start()\n  File \"/home/nakazawa/anaconda3/envs/py3-tf2-keras2/lib/python3.5/site-packages/zmq/eventloop/ioloop.py\", line 177, in start\n    super(ZMQIOLoop, self).start()\n  File \"/home/nakazawa/anaconda3/envs/py3-tf2-keras2/lib/python3.5/site-packages/tornado/ioloop.py\", line 888, in start\n    handler_func(fd_obj, events)\n  File \"/home/nakazawa/anaconda3/envs/py3-tf2-keras2/lib/python3.5/site-packages/tornado/stack_context.py\", line 277, in null_wrapper\n    return fn(*args, **kwargs)\n  File \"/home/nakazawa/anaconda3/envs/py3-tf2-keras2/lib/python3.5/site-packages/zmq/eventloop/zmqstream.py\", line 440, in _handle_events\n    self._handle_recv()\n  File \"/home/nakazawa/anaconda3/envs/py3-tf2-keras2/lib/python3.5/site-packages/zmq/eventloop/zmqstream.py\", line 472, in _handle_recv\n    self._run_callback(callback, msg)\n  File \"/home/nakazawa/anaconda3/envs/py3-tf2-keras2/lib/python3.5/site-packages/zmq/eventloop/zmqstream.py\", line 414, in _run_callback\n    callback(*args, **kwargs)\n  File \"/home/nakazawa/anaconda3/envs/py3-tf2-keras2/lib/python3.5/site-packages/tornado/stack_context.py\", line 277, in null_wrapper\n    return fn(*args, **kwargs)\n  File \"/home/nakazawa/anaconda3/envs/py3-tf2-keras2/lib/python3.5/site-packages/ipykernel/kernelbase.py\", line 283, in dispatcher\n    return self.dispatch_shell(stream, msg)\n  File \"/home/nakazawa/anaconda3/envs/py3-tf2-keras2/lib/python3.5/site-packages/ipykernel/kernelbase.py\", line 235, in dispatch_shell\n    handler(stream, idents, msg)\n  File \"/home/nakazawa/anaconda3/envs/py3-tf2-keras2/lib/python3.5/site-packages/ipykernel/kernelbase.py\", line 399, in execute_request\n    user_expressions, allow_stdin)\n  File \"/home/nakazawa/anaconda3/envs/py3-tf2-keras2/lib/python3.5/site-packages/ipykernel/ipkernel.py\", line 196, in do_execute\n    res = shell.run_cell(code, store_history=store_history, silent=silent)\n  File \"/home/nakazawa/anaconda3/envs/py3-tf2-keras2/lib/python3.5/site-packages/ipykernel/zmqshell.py\", line 533, in run_cell\n    return super(ZMQInteractiveShell, self).run_cell(*args, **kwargs)\n  File \"/home/nakazawa/anaconda3/envs/py3-tf2-keras2/lib/python3.5/site-packages/IPython/core/interactiveshell.py\", line 2698, in run_cell\n    interactivity=interactivity, compiler=compiler, result=result)\n  File \"/home/nakazawa/anaconda3/envs/py3-tf2-keras2/lib/python3.5/site-packages/IPython/core/interactiveshell.py\", line 2802, in run_ast_nodes\n    if self.run_code(code, result):\n  File \"/home/nakazawa/anaconda3/envs/py3-tf2-keras2/lib/python3.5/site-packages/IPython/core/interactiveshell.py\", line 2862, in run_code\n    exec(code_obj, self.user_global_ns, self.user_ns)\n  File \"<ipython-input-7-4c1eb5fa26c5>\", line 1, in <module>\n    model = vgg19_lower_model()\n  File \"<ipython-input-2-af599085ef01>\", line 3, in vgg19_lower_model\n    vgg19 = VGG19(include_top=True, weights='imagenet', input_tensor=None, input_shape=None)\n  File \"/home/nakazawa/anaconda3/envs/py3-tf2-keras2/lib/python3.5/site-packages/keras/applications/vgg19.py\", line 145, in VGG19\n    x = Dense(4096, activation='relu', name='fc1')(x)\n  File \"/home/nakazawa/anaconda3/envs/py3-tf2-keras2/lib/python3.5/site-packages/keras/engine/topology.py\", line 575, in __call__\n    self.build(input_shapes[0])\n  File \"/home/nakazawa/anaconda3/envs/py3-tf2-keras2/lib/python3.5/site-packages/keras/layers/core.py\", line 828, in build\n    constraint=self.kernel_constraint)\n  File \"/home/nakazawa/anaconda3/envs/py3-tf2-keras2/lib/python3.5/site-packages/keras/legacy/interfaces.py\", line 87, in wrapper\n    return func(*args, **kwargs)\n  File \"/home/nakazawa/anaconda3/envs/py3-tf2-keras2/lib/python3.5/site-packages/keras/engine/topology.py\", line 396, in add_weight\n    weight = K.variable(initializer(shape),\n  File \"/home/nakazawa/anaconda3/envs/py3-tf2-keras2/lib/python3.5/site-packages/keras/initializers.py\", line 212, in __call__\n    dtype=dtype, seed=self.seed)\n  File \"/home/nakazawa/anaconda3/envs/py3-tf2-keras2/lib/python3.5/site-packages/keras/backend/tensorflow_backend.py\", line 3544, in random_uniform\n    dtype=dtype, seed=seed)\n  File \"/home/nakazawa/anaconda3/envs/py3-tf2-keras2/lib/python3.5/site-packages/tensorflow/python/ops/random_ops.py\", line 240, in random_uniform\n    shape, dtype, seed=seed1, seed2=seed2)\n  File \"/home/nakazawa/anaconda3/envs/py3-tf2-keras2/lib/python3.5/site-packages/tensorflow/python/ops/gen_random_ops.py\", line 247, in _random_uniform\n    seed=seed, seed2=seed2, name=name)\n  File \"/home/nakazawa/anaconda3/envs/py3-tf2-keras2/lib/python3.5/site-packages/tensorflow/python/framework/op_def_library.py\", line 767, in apply_op\n    op_def=op_def)\n  File \"/home/nakazawa/anaconda3/envs/py3-tf2-keras2/lib/python3.5/site-packages/tensorflow/python/framework/ops.py\", line 2630, in create_op\n    original_op=self._default_original_op, op_def=op_def)\n  File \"/home/nakazawa/anaconda3/envs/py3-tf2-keras2/lib/python3.5/site-packages/tensorflow/python/framework/ops.py\", line 1204, in __init__\n    self._traceback = self._graph._extract_stack()  # pylint: disable=protected-access\n\nResourceExhaustedError (see above for traceback): OOM when allocating tensor with shape[25088,4096]\n\t [[Node: fc1/random_uniform/RandomUniform = RandomUniform[T=DT_INT32, dtype=DT_FLOAT, seed=87654321, seed2=4048235, _device=\"/job:localhost/replica:0/task:0/gpu:0\"](fc1/random_uniform/shape)]]\n",
     "output_type": "error",
     "traceback": [
      "\u001b[0;31m---------------------------------------------------------------------------\u001b[0m",
      "\u001b[0;31mResourceExhaustedError\u001b[0m                    Traceback (most recent call last)",
      "\u001b[0;32m~/anaconda3/envs/py3-tf2-keras2/lib/python3.5/site-packages/tensorflow/python/client/session.py\u001b[0m in \u001b[0;36m_do_call\u001b[0;34m(self, fn, *args)\u001b[0m\n\u001b[1;32m   1326\u001b[0m     \u001b[0;32mtry\u001b[0m\u001b[0;34m:\u001b[0m\u001b[0;34m\u001b[0m\u001b[0m\n\u001b[0;32m-> 1327\u001b[0;31m       \u001b[0;32mreturn\u001b[0m \u001b[0mfn\u001b[0m\u001b[0;34m(\u001b[0m\u001b[0;34m*\u001b[0m\u001b[0margs\u001b[0m\u001b[0;34m)\u001b[0m\u001b[0;34m\u001b[0m\u001b[0m\n\u001b[0m\u001b[1;32m   1328\u001b[0m     \u001b[0;32mexcept\u001b[0m \u001b[0merrors\u001b[0m\u001b[0;34m.\u001b[0m\u001b[0mOpError\u001b[0m \u001b[0;32mas\u001b[0m \u001b[0me\u001b[0m\u001b[0;34m:\u001b[0m\u001b[0;34m\u001b[0m\u001b[0m\n",
      "\u001b[0;32m~/anaconda3/envs/py3-tf2-keras2/lib/python3.5/site-packages/tensorflow/python/client/session.py\u001b[0m in \u001b[0;36m_run_fn\u001b[0;34m(session, feed_dict, fetch_list, target_list, options, run_metadata)\u001b[0m\n\u001b[1;32m   1305\u001b[0m                                    \u001b[0mfeed_dict\u001b[0m\u001b[0;34m,\u001b[0m \u001b[0mfetch_list\u001b[0m\u001b[0;34m,\u001b[0m \u001b[0mtarget_list\u001b[0m\u001b[0;34m,\u001b[0m\u001b[0;34m\u001b[0m\u001b[0m\n\u001b[0;32m-> 1306\u001b[0;31m                                    status, run_metadata)\n\u001b[0m\u001b[1;32m   1307\u001b[0m \u001b[0;34m\u001b[0m\u001b[0m\n",
      "\u001b[0;32m~/anaconda3/envs/py3-tf2-keras2/lib/python3.5/contextlib.py\u001b[0m in \u001b[0;36m__exit__\u001b[0;34m(self, type, value, traceback)\u001b[0m\n\u001b[1;32m     65\u001b[0m             \u001b[0;32mtry\u001b[0m\u001b[0;34m:\u001b[0m\u001b[0;34m\u001b[0m\u001b[0m\n\u001b[0;32m---> 66\u001b[0;31m                 \u001b[0mnext\u001b[0m\u001b[0;34m(\u001b[0m\u001b[0mself\u001b[0m\u001b[0;34m.\u001b[0m\u001b[0mgen\u001b[0m\u001b[0;34m)\u001b[0m\u001b[0;34m\u001b[0m\u001b[0m\n\u001b[0m\u001b[1;32m     67\u001b[0m             \u001b[0;32mexcept\u001b[0m \u001b[0mStopIteration\u001b[0m\u001b[0;34m:\u001b[0m\u001b[0;34m\u001b[0m\u001b[0m\n",
      "\u001b[0;32m~/anaconda3/envs/py3-tf2-keras2/lib/python3.5/site-packages/tensorflow/python/framework/errors_impl.py\u001b[0m in \u001b[0;36mraise_exception_on_not_ok_status\u001b[0;34m()\u001b[0m\n\u001b[1;32m    465\u001b[0m           \u001b[0mcompat\u001b[0m\u001b[0;34m.\u001b[0m\u001b[0mas_text\u001b[0m\u001b[0;34m(\u001b[0m\u001b[0mpywrap_tensorflow\u001b[0m\u001b[0;34m.\u001b[0m\u001b[0mTF_Message\u001b[0m\u001b[0;34m(\u001b[0m\u001b[0mstatus\u001b[0m\u001b[0;34m)\u001b[0m\u001b[0;34m)\u001b[0m\u001b[0;34m,\u001b[0m\u001b[0;34m\u001b[0m\u001b[0m\n\u001b[0;32m--> 466\u001b[0;31m           pywrap_tensorflow.TF_GetCode(status))\n\u001b[0m\u001b[1;32m    467\u001b[0m   \u001b[0;32mfinally\u001b[0m\u001b[0;34m:\u001b[0m\u001b[0;34m\u001b[0m\u001b[0m\n",
      "\u001b[0;31mResourceExhaustedError\u001b[0m: OOM when allocating tensor with shape[25088,4096]\n\t [[Node: fc1/random_uniform/RandomUniform = RandomUniform[T=DT_INT32, dtype=DT_FLOAT, seed=87654321, seed2=4048235, _device=\"/job:localhost/replica:0/task:0/gpu:0\"](fc1/random_uniform/shape)]]",
      "\nDuring handling of the above exception, another exception occurred:\n",
      "\u001b[0;31mResourceExhaustedError\u001b[0m                    Traceback (most recent call last)",
      "\u001b[0;32m<ipython-input-7-4c1eb5fa26c5>\u001b[0m in \u001b[0;36m<module>\u001b[0;34m()\u001b[0m\n\u001b[0;32m----> 1\u001b[0;31m \u001b[0mmodel\u001b[0m \u001b[0;34m=\u001b[0m \u001b[0mvgg19_lower_model\u001b[0m\u001b[0;34m(\u001b[0m\u001b[0;34m)\u001b[0m\u001b[0;34m\u001b[0m\u001b[0m\n\u001b[0m\u001b[1;32m      2\u001b[0m \u001b[0mmodel\u001b[0m\u001b[0;34m.\u001b[0m\u001b[0msummary\u001b[0m\u001b[0;34m(\u001b[0m\u001b[0;34m)\u001b[0m\u001b[0;34m\u001b[0m\u001b[0m\n\u001b[1;32m      3\u001b[0m \u001b[0mout\u001b[0m \u001b[0;34m=\u001b[0m \u001b[0mmodel\u001b[0m\u001b[0;34m.\u001b[0m\u001b[0mpredict\u001b[0m\u001b[0;34m(\u001b[0m\u001b[0mdata\u001b[0m\u001b[0;34m,\u001b[0m \u001b[0mbatch_size\u001b[0m\u001b[0;34m=\u001b[0m\u001b[0;36m32\u001b[0m\u001b[0;34m,\u001b[0m \u001b[0mverbose\u001b[0m\u001b[0;34m=\u001b[0m\u001b[0;36m1\u001b[0m\u001b[0;34m)\u001b[0m\u001b[0;34m\u001b[0m\u001b[0m\n\u001b[1;32m      4\u001b[0m \u001b[0;34m\u001b[0m\u001b[0m\n\u001b[1;32m      5\u001b[0m \u001b[0mprint\u001b[0m\u001b[0;34m(\u001b[0m\u001b[0mout\u001b[0m\u001b[0;34m.\u001b[0m\u001b[0mshape\u001b[0m\u001b[0;34m)\u001b[0m\u001b[0;34m\u001b[0m\u001b[0m\n",
      "\u001b[0;32m<ipython-input-2-af599085ef01>\u001b[0m in \u001b[0;36mvgg19_lower_model\u001b[0;34m()\u001b[0m\n\u001b[1;32m      1\u001b[0m \u001b[0;32mdef\u001b[0m \u001b[0mvgg19_lower_model\u001b[0m\u001b[0;34m(\u001b[0m\u001b[0;34m)\u001b[0m\u001b[0;34m:\u001b[0m\u001b[0;34m\u001b[0m\u001b[0m\n\u001b[1;32m      2\u001b[0m     \u001b[0;31m# initial model, load vgg19\u001b[0m\u001b[0;34m\u001b[0m\u001b[0;34m\u001b[0m\u001b[0m\n\u001b[0;32m----> 3\u001b[0;31m     \u001b[0mvgg19\u001b[0m \u001b[0;34m=\u001b[0m \u001b[0mVGG19\u001b[0m\u001b[0;34m(\u001b[0m\u001b[0minclude_top\u001b[0m\u001b[0;34m=\u001b[0m\u001b[0;32mTrue\u001b[0m\u001b[0;34m,\u001b[0m \u001b[0mweights\u001b[0m\u001b[0;34m=\u001b[0m\u001b[0;34m'imagenet'\u001b[0m\u001b[0;34m,\u001b[0m \u001b[0minput_tensor\u001b[0m\u001b[0;34m=\u001b[0m\u001b[0;32mNone\u001b[0m\u001b[0;34m,\u001b[0m \u001b[0minput_shape\u001b[0m\u001b[0;34m=\u001b[0m\u001b[0;32mNone\u001b[0m\u001b[0;34m)\u001b[0m\u001b[0;34m\u001b[0m\u001b[0m\n\u001b[0m\u001b[1;32m      4\u001b[0m     \u001b[0mvgg19\u001b[0m\u001b[0;34m.\u001b[0m\u001b[0msummary\u001b[0m\u001b[0;34m(\u001b[0m\u001b[0;34m)\u001b[0m\u001b[0;34m\u001b[0m\u001b[0m\n\u001b[1;32m      5\u001b[0m \u001b[0;34m\u001b[0m\u001b[0m\n",
      "\u001b[0;32m~/anaconda3/envs/py3-tf2-keras2/lib/python3.5/site-packages/keras/applications/vgg19.py\u001b[0m in \u001b[0;36mVGG19\u001b[0;34m(include_top, weights, input_tensor, input_shape, pooling, classes)\u001b[0m\n\u001b[1;32m    171\u001b[0m                                     \u001b[0mWEIGHTS_PATH_NO_TOP\u001b[0m\u001b[0;34m,\u001b[0m\u001b[0;34m\u001b[0m\u001b[0m\n\u001b[1;32m    172\u001b[0m                                     cache_subdir='models')\n\u001b[0;32m--> 173\u001b[0;31m         \u001b[0mmodel\u001b[0m\u001b[0;34m.\u001b[0m\u001b[0mload_weights\u001b[0m\u001b[0;34m(\u001b[0m\u001b[0mweights_path\u001b[0m\u001b[0;34m)\u001b[0m\u001b[0;34m\u001b[0m\u001b[0m\n\u001b[0m\u001b[1;32m    174\u001b[0m         \u001b[0;32mif\u001b[0m \u001b[0mK\u001b[0m\u001b[0;34m.\u001b[0m\u001b[0mbackend\u001b[0m\u001b[0;34m(\u001b[0m\u001b[0;34m)\u001b[0m \u001b[0;34m==\u001b[0m \u001b[0;34m'theano'\u001b[0m\u001b[0;34m:\u001b[0m\u001b[0;34m\u001b[0m\u001b[0m\n\u001b[1;32m    175\u001b[0m             \u001b[0mlayer_utils\u001b[0m\u001b[0;34m.\u001b[0m\u001b[0mconvert_all_kernels_in_model\u001b[0m\u001b[0;34m(\u001b[0m\u001b[0mmodel\u001b[0m\u001b[0;34m)\u001b[0m\u001b[0;34m\u001b[0m\u001b[0m\n",
      "\u001b[0;32m~/anaconda3/envs/py3-tf2-keras2/lib/python3.5/site-packages/keras/engine/topology.py\u001b[0m in \u001b[0;36mload_weights\u001b[0;34m(self, filepath, by_name)\u001b[0m\n\u001b[1;32m   2617\u001b[0m             \u001b[0mload_weights_from_hdf5_group_by_name\u001b[0m\u001b[0;34m(\u001b[0m\u001b[0mf\u001b[0m\u001b[0;34m,\u001b[0m \u001b[0mself\u001b[0m\u001b[0;34m.\u001b[0m\u001b[0mlayers\u001b[0m\u001b[0;34m)\u001b[0m\u001b[0;34m\u001b[0m\u001b[0m\n\u001b[1;32m   2618\u001b[0m         \u001b[0;32melse\u001b[0m\u001b[0;34m:\u001b[0m\u001b[0;34m\u001b[0m\u001b[0m\n\u001b[0;32m-> 2619\u001b[0;31m             \u001b[0mload_weights_from_hdf5_group\u001b[0m\u001b[0;34m(\u001b[0m\u001b[0mf\u001b[0m\u001b[0;34m,\u001b[0m \u001b[0mself\u001b[0m\u001b[0;34m.\u001b[0m\u001b[0mlayers\u001b[0m\u001b[0;34m)\u001b[0m\u001b[0;34m\u001b[0m\u001b[0m\n\u001b[0m\u001b[1;32m   2620\u001b[0m \u001b[0;34m\u001b[0m\u001b[0m\n\u001b[1;32m   2621\u001b[0m         \u001b[0;32mif\u001b[0m \u001b[0mhasattr\u001b[0m\u001b[0;34m(\u001b[0m\u001b[0mf\u001b[0m\u001b[0;34m,\u001b[0m \u001b[0;34m'close'\u001b[0m\u001b[0;34m)\u001b[0m\u001b[0;34m:\u001b[0m\u001b[0;34m\u001b[0m\u001b[0m\n",
      "\u001b[0;32m~/anaconda3/envs/py3-tf2-keras2/lib/python3.5/site-packages/keras/engine/topology.py\u001b[0m in \u001b[0;36mload_weights_from_hdf5_group\u001b[0;34m(f, layers)\u001b[0m\n\u001b[1;32m   3093\u001b[0m                              ' elements.')\n\u001b[1;32m   3094\u001b[0m         \u001b[0mweight_value_tuples\u001b[0m \u001b[0;34m+=\u001b[0m \u001b[0mzip\u001b[0m\u001b[0;34m(\u001b[0m\u001b[0msymbolic_weights\u001b[0m\u001b[0;34m,\u001b[0m \u001b[0mweight_values\u001b[0m\u001b[0;34m)\u001b[0m\u001b[0;34m\u001b[0m\u001b[0m\n\u001b[0;32m-> 3095\u001b[0;31m     \u001b[0mK\u001b[0m\u001b[0;34m.\u001b[0m\u001b[0mbatch_set_value\u001b[0m\u001b[0;34m(\u001b[0m\u001b[0mweight_value_tuples\u001b[0m\u001b[0;34m)\u001b[0m\u001b[0;34m\u001b[0m\u001b[0m\n\u001b[0m\u001b[1;32m   3096\u001b[0m \u001b[0;34m\u001b[0m\u001b[0m\n\u001b[1;32m   3097\u001b[0m \u001b[0;34m\u001b[0m\u001b[0m\n",
      "\u001b[0;32m~/anaconda3/envs/py3-tf2-keras2/lib/python3.5/site-packages/keras/backend/tensorflow_backend.py\u001b[0m in \u001b[0;36mbatch_set_value\u001b[0;34m(tuples)\u001b[0m\n\u001b[1;32m   2191\u001b[0m             \u001b[0massign_ops\u001b[0m\u001b[0;34m.\u001b[0m\u001b[0mappend\u001b[0m\u001b[0;34m(\u001b[0m\u001b[0massign_op\u001b[0m\u001b[0;34m)\u001b[0m\u001b[0;34m\u001b[0m\u001b[0m\n\u001b[1;32m   2192\u001b[0m             \u001b[0mfeed_dict\u001b[0m\u001b[0;34m[\u001b[0m\u001b[0massign_placeholder\u001b[0m\u001b[0;34m]\u001b[0m \u001b[0;34m=\u001b[0m \u001b[0mvalue\u001b[0m\u001b[0;34m\u001b[0m\u001b[0m\n\u001b[0;32m-> 2193\u001b[0;31m         \u001b[0mget_session\u001b[0m\u001b[0;34m(\u001b[0m\u001b[0;34m)\u001b[0m\u001b[0;34m.\u001b[0m\u001b[0mrun\u001b[0m\u001b[0;34m(\u001b[0m\u001b[0massign_ops\u001b[0m\u001b[0;34m,\u001b[0m \u001b[0mfeed_dict\u001b[0m\u001b[0;34m=\u001b[0m\u001b[0mfeed_dict\u001b[0m\u001b[0;34m)\u001b[0m\u001b[0;34m\u001b[0m\u001b[0m\n\u001b[0m\u001b[1;32m   2194\u001b[0m \u001b[0;34m\u001b[0m\u001b[0m\n\u001b[1;32m   2195\u001b[0m \u001b[0;34m\u001b[0m\u001b[0m\n",
      "\u001b[0;32m~/anaconda3/envs/py3-tf2-keras2/lib/python3.5/site-packages/keras/backend/tensorflow_backend.py\u001b[0m in \u001b[0;36mget_session\u001b[0;34m()\u001b[0m\n\u001b[1;32m    165\u001b[0m     \u001b[0;32mif\u001b[0m \u001b[0;32mnot\u001b[0m \u001b[0m_MANUAL_VAR_INIT\u001b[0m\u001b[0;34m:\u001b[0m\u001b[0;34m\u001b[0m\u001b[0m\n\u001b[1;32m    166\u001b[0m         \u001b[0;32mwith\u001b[0m \u001b[0msession\u001b[0m\u001b[0;34m.\u001b[0m\u001b[0mgraph\u001b[0m\u001b[0;34m.\u001b[0m\u001b[0mas_default\u001b[0m\u001b[0;34m(\u001b[0m\u001b[0;34m)\u001b[0m\u001b[0;34m:\u001b[0m\u001b[0;34m\u001b[0m\u001b[0m\n\u001b[0;32m--> 167\u001b[0;31m             \u001b[0m_initialize_variables\u001b[0m\u001b[0;34m(\u001b[0m\u001b[0;34m)\u001b[0m\u001b[0;34m\u001b[0m\u001b[0m\n\u001b[0m\u001b[1;32m    168\u001b[0m     \u001b[0;32mreturn\u001b[0m \u001b[0msession\u001b[0m\u001b[0;34m\u001b[0m\u001b[0m\n\u001b[1;32m    169\u001b[0m \u001b[0;34m\u001b[0m\u001b[0m\n",
      "\u001b[0;32m~/anaconda3/envs/py3-tf2-keras2/lib/python3.5/site-packages/keras/backend/tensorflow_backend.py\u001b[0m in \u001b[0;36m_initialize_variables\u001b[0;34m()\u001b[0m\n\u001b[1;32m    339\u001b[0m     \u001b[0;32mif\u001b[0m \u001b[0muninitialized_variables\u001b[0m\u001b[0;34m:\u001b[0m\u001b[0;34m\u001b[0m\u001b[0m\n\u001b[1;32m    340\u001b[0m         \u001b[0msess\u001b[0m \u001b[0;34m=\u001b[0m \u001b[0mget_session\u001b[0m\u001b[0;34m(\u001b[0m\u001b[0;34m)\u001b[0m\u001b[0;34m\u001b[0m\u001b[0m\n\u001b[0;32m--> 341\u001b[0;31m         \u001b[0msess\u001b[0m\u001b[0;34m.\u001b[0m\u001b[0mrun\u001b[0m\u001b[0;34m(\u001b[0m\u001b[0mtf\u001b[0m\u001b[0;34m.\u001b[0m\u001b[0mvariables_initializer\u001b[0m\u001b[0;34m(\u001b[0m\u001b[0muninitialized_variables\u001b[0m\u001b[0;34m)\u001b[0m\u001b[0;34m)\u001b[0m\u001b[0;34m\u001b[0m\u001b[0m\n\u001b[0m\u001b[1;32m    342\u001b[0m \u001b[0;34m\u001b[0m\u001b[0m\n\u001b[1;32m    343\u001b[0m \u001b[0;34m\u001b[0m\u001b[0m\n",
      "\u001b[0;32m~/anaconda3/envs/py3-tf2-keras2/lib/python3.5/site-packages/tensorflow/python/client/session.py\u001b[0m in \u001b[0;36mrun\u001b[0;34m(self, fetches, feed_dict, options, run_metadata)\u001b[0m\n\u001b[1;32m    893\u001b[0m     \u001b[0;32mtry\u001b[0m\u001b[0;34m:\u001b[0m\u001b[0;34m\u001b[0m\u001b[0m\n\u001b[1;32m    894\u001b[0m       result = self._run(None, fetches, feed_dict, options_ptr,\n\u001b[0;32m--> 895\u001b[0;31m                          run_metadata_ptr)\n\u001b[0m\u001b[1;32m    896\u001b[0m       \u001b[0;32mif\u001b[0m \u001b[0mrun_metadata\u001b[0m\u001b[0;34m:\u001b[0m\u001b[0;34m\u001b[0m\u001b[0m\n\u001b[1;32m    897\u001b[0m         \u001b[0mproto_data\u001b[0m \u001b[0;34m=\u001b[0m \u001b[0mtf_session\u001b[0m\u001b[0;34m.\u001b[0m\u001b[0mTF_GetBuffer\u001b[0m\u001b[0;34m(\u001b[0m\u001b[0mrun_metadata_ptr\u001b[0m\u001b[0;34m)\u001b[0m\u001b[0;34m\u001b[0m\u001b[0m\n",
      "\u001b[0;32m~/anaconda3/envs/py3-tf2-keras2/lib/python3.5/site-packages/tensorflow/python/client/session.py\u001b[0m in \u001b[0;36m_run\u001b[0;34m(self, handle, fetches, feed_dict, options, run_metadata)\u001b[0m\n\u001b[1;32m   1122\u001b[0m     \u001b[0;32mif\u001b[0m \u001b[0mfinal_fetches\u001b[0m \u001b[0;32mor\u001b[0m \u001b[0mfinal_targets\u001b[0m \u001b[0;32mor\u001b[0m \u001b[0;34m(\u001b[0m\u001b[0mhandle\u001b[0m \u001b[0;32mand\u001b[0m \u001b[0mfeed_dict_tensor\u001b[0m\u001b[0;34m)\u001b[0m\u001b[0;34m:\u001b[0m\u001b[0;34m\u001b[0m\u001b[0m\n\u001b[1;32m   1123\u001b[0m       results = self._do_run(handle, final_targets, final_fetches,\n\u001b[0;32m-> 1124\u001b[0;31m                              feed_dict_tensor, options, run_metadata)\n\u001b[0m\u001b[1;32m   1125\u001b[0m     \u001b[0;32melse\u001b[0m\u001b[0;34m:\u001b[0m\u001b[0;34m\u001b[0m\u001b[0m\n\u001b[1;32m   1126\u001b[0m       \u001b[0mresults\u001b[0m \u001b[0;34m=\u001b[0m \u001b[0;34m[\u001b[0m\u001b[0;34m]\u001b[0m\u001b[0;34m\u001b[0m\u001b[0m\n",
      "\u001b[0;32m~/anaconda3/envs/py3-tf2-keras2/lib/python3.5/site-packages/tensorflow/python/client/session.py\u001b[0m in \u001b[0;36m_do_run\u001b[0;34m(self, handle, target_list, fetch_list, feed_dict, options, run_metadata)\u001b[0m\n\u001b[1;32m   1319\u001b[0m     \u001b[0;32mif\u001b[0m \u001b[0mhandle\u001b[0m \u001b[0;32mis\u001b[0m \u001b[0;32mNone\u001b[0m\u001b[0;34m:\u001b[0m\u001b[0;34m\u001b[0m\u001b[0m\n\u001b[1;32m   1320\u001b[0m       return self._do_call(_run_fn, self._session, feeds, fetches, targets,\n\u001b[0;32m-> 1321\u001b[0;31m                            options, run_metadata)\n\u001b[0m\u001b[1;32m   1322\u001b[0m     \u001b[0;32melse\u001b[0m\u001b[0;34m:\u001b[0m\u001b[0;34m\u001b[0m\u001b[0m\n\u001b[1;32m   1323\u001b[0m       \u001b[0;32mreturn\u001b[0m \u001b[0mself\u001b[0m\u001b[0;34m.\u001b[0m\u001b[0m_do_call\u001b[0m\u001b[0;34m(\u001b[0m\u001b[0m_prun_fn\u001b[0m\u001b[0;34m,\u001b[0m \u001b[0mself\u001b[0m\u001b[0;34m.\u001b[0m\u001b[0m_session\u001b[0m\u001b[0;34m,\u001b[0m \u001b[0mhandle\u001b[0m\u001b[0;34m,\u001b[0m \u001b[0mfeeds\u001b[0m\u001b[0;34m,\u001b[0m \u001b[0mfetches\u001b[0m\u001b[0;34m)\u001b[0m\u001b[0;34m\u001b[0m\u001b[0m\n",
      "\u001b[0;32m~/anaconda3/envs/py3-tf2-keras2/lib/python3.5/site-packages/tensorflow/python/client/session.py\u001b[0m in \u001b[0;36m_do_call\u001b[0;34m(self, fn, *args)\u001b[0m\n\u001b[1;32m   1338\u001b[0m         \u001b[0;32mexcept\u001b[0m \u001b[0mKeyError\u001b[0m\u001b[0;34m:\u001b[0m\u001b[0;34m\u001b[0m\u001b[0m\n\u001b[1;32m   1339\u001b[0m           \u001b[0;32mpass\u001b[0m\u001b[0;34m\u001b[0m\u001b[0m\n\u001b[0;32m-> 1340\u001b[0;31m       \u001b[0;32mraise\u001b[0m \u001b[0mtype\u001b[0m\u001b[0;34m(\u001b[0m\u001b[0me\u001b[0m\u001b[0;34m)\u001b[0m\u001b[0;34m(\u001b[0m\u001b[0mnode_def\u001b[0m\u001b[0;34m,\u001b[0m \u001b[0mop\u001b[0m\u001b[0;34m,\u001b[0m \u001b[0mmessage\u001b[0m\u001b[0;34m)\u001b[0m\u001b[0;34m\u001b[0m\u001b[0m\n\u001b[0m\u001b[1;32m   1341\u001b[0m \u001b[0;34m\u001b[0m\u001b[0m\n\u001b[1;32m   1342\u001b[0m   \u001b[0;32mdef\u001b[0m \u001b[0m_extend_graph\u001b[0m\u001b[0;34m(\u001b[0m\u001b[0mself\u001b[0m\u001b[0;34m)\u001b[0m\u001b[0;34m:\u001b[0m\u001b[0;34m\u001b[0m\u001b[0m\n",
      "\u001b[0;31mResourceExhaustedError\u001b[0m: OOM when allocating tensor with shape[25088,4096]\n\t [[Node: fc1/random_uniform/RandomUniform = RandomUniform[T=DT_INT32, dtype=DT_FLOAT, seed=87654321, seed2=4048235, _device=\"/job:localhost/replica:0/task:0/gpu:0\"](fc1/random_uniform/shape)]]\n\nCaused by op 'fc1/random_uniform/RandomUniform', defined at:\n  File \"/home/nakazawa/anaconda3/envs/py3-tf2-keras2/lib/python3.5/runpy.py\", line 193, in _run_module_as_main\n    \"__main__\", mod_spec)\n  File \"/home/nakazawa/anaconda3/envs/py3-tf2-keras2/lib/python3.5/runpy.py\", line 85, in _run_code\n    exec(code, run_globals)\n  File \"/home/nakazawa/anaconda3/envs/py3-tf2-keras2/lib/python3.5/site-packages/ipykernel/__main__.py\", line 3, in <module>\n    app.launch_new_instance()\n  File \"/home/nakazawa/anaconda3/envs/py3-tf2-keras2/lib/python3.5/site-packages/traitlets/config/application.py\", line 658, in launch_instance\n    app.start()\n  File \"/home/nakazawa/anaconda3/envs/py3-tf2-keras2/lib/python3.5/site-packages/ipykernel/kernelapp.py\", line 477, in start\n    ioloop.IOLoop.instance().start()\n  File \"/home/nakazawa/anaconda3/envs/py3-tf2-keras2/lib/python3.5/site-packages/zmq/eventloop/ioloop.py\", line 177, in start\n    super(ZMQIOLoop, self).start()\n  File \"/home/nakazawa/anaconda3/envs/py3-tf2-keras2/lib/python3.5/site-packages/tornado/ioloop.py\", line 888, in start\n    handler_func(fd_obj, events)\n  File \"/home/nakazawa/anaconda3/envs/py3-tf2-keras2/lib/python3.5/site-packages/tornado/stack_context.py\", line 277, in null_wrapper\n    return fn(*args, **kwargs)\n  File \"/home/nakazawa/anaconda3/envs/py3-tf2-keras2/lib/python3.5/site-packages/zmq/eventloop/zmqstream.py\", line 440, in _handle_events\n    self._handle_recv()\n  File \"/home/nakazawa/anaconda3/envs/py3-tf2-keras2/lib/python3.5/site-packages/zmq/eventloop/zmqstream.py\", line 472, in _handle_recv\n    self._run_callback(callback, msg)\n  File \"/home/nakazawa/anaconda3/envs/py3-tf2-keras2/lib/python3.5/site-packages/zmq/eventloop/zmqstream.py\", line 414, in _run_callback\n    callback(*args, **kwargs)\n  File \"/home/nakazawa/anaconda3/envs/py3-tf2-keras2/lib/python3.5/site-packages/tornado/stack_context.py\", line 277, in null_wrapper\n    return fn(*args, **kwargs)\n  File \"/home/nakazawa/anaconda3/envs/py3-tf2-keras2/lib/python3.5/site-packages/ipykernel/kernelbase.py\", line 283, in dispatcher\n    return self.dispatch_shell(stream, msg)\n  File \"/home/nakazawa/anaconda3/envs/py3-tf2-keras2/lib/python3.5/site-packages/ipykernel/kernelbase.py\", line 235, in dispatch_shell\n    handler(stream, idents, msg)\n  File \"/home/nakazawa/anaconda3/envs/py3-tf2-keras2/lib/python3.5/site-packages/ipykernel/kernelbase.py\", line 399, in execute_request\n    user_expressions, allow_stdin)\n  File \"/home/nakazawa/anaconda3/envs/py3-tf2-keras2/lib/python3.5/site-packages/ipykernel/ipkernel.py\", line 196, in do_execute\n    res = shell.run_cell(code, store_history=store_history, silent=silent)\n  File \"/home/nakazawa/anaconda3/envs/py3-tf2-keras2/lib/python3.5/site-packages/ipykernel/zmqshell.py\", line 533, in run_cell\n    return super(ZMQInteractiveShell, self).run_cell(*args, **kwargs)\n  File \"/home/nakazawa/anaconda3/envs/py3-tf2-keras2/lib/python3.5/site-packages/IPython/core/interactiveshell.py\", line 2698, in run_cell\n    interactivity=interactivity, compiler=compiler, result=result)\n  File \"/home/nakazawa/anaconda3/envs/py3-tf2-keras2/lib/python3.5/site-packages/IPython/core/interactiveshell.py\", line 2802, in run_ast_nodes\n    if self.run_code(code, result):\n  File \"/home/nakazawa/anaconda3/envs/py3-tf2-keras2/lib/python3.5/site-packages/IPython/core/interactiveshell.py\", line 2862, in run_code\n    exec(code_obj, self.user_global_ns, self.user_ns)\n  File \"<ipython-input-7-4c1eb5fa26c5>\", line 1, in <module>\n    model = vgg19_lower_model()\n  File \"<ipython-input-2-af599085ef01>\", line 3, in vgg19_lower_model\n    vgg19 = VGG19(include_top=True, weights='imagenet', input_tensor=None, input_shape=None)\n  File \"/home/nakazawa/anaconda3/envs/py3-tf2-keras2/lib/python3.5/site-packages/keras/applications/vgg19.py\", line 145, in VGG19\n    x = Dense(4096, activation='relu', name='fc1')(x)\n  File \"/home/nakazawa/anaconda3/envs/py3-tf2-keras2/lib/python3.5/site-packages/keras/engine/topology.py\", line 575, in __call__\n    self.build(input_shapes[0])\n  File \"/home/nakazawa/anaconda3/envs/py3-tf2-keras2/lib/python3.5/site-packages/keras/layers/core.py\", line 828, in build\n    constraint=self.kernel_constraint)\n  File \"/home/nakazawa/anaconda3/envs/py3-tf2-keras2/lib/python3.5/site-packages/keras/legacy/interfaces.py\", line 87, in wrapper\n    return func(*args, **kwargs)\n  File \"/home/nakazawa/anaconda3/envs/py3-tf2-keras2/lib/python3.5/site-packages/keras/engine/topology.py\", line 396, in add_weight\n    weight = K.variable(initializer(shape),\n  File \"/home/nakazawa/anaconda3/envs/py3-tf2-keras2/lib/python3.5/site-packages/keras/initializers.py\", line 212, in __call__\n    dtype=dtype, seed=self.seed)\n  File \"/home/nakazawa/anaconda3/envs/py3-tf2-keras2/lib/python3.5/site-packages/keras/backend/tensorflow_backend.py\", line 3544, in random_uniform\n    dtype=dtype, seed=seed)\n  File \"/home/nakazawa/anaconda3/envs/py3-tf2-keras2/lib/python3.5/site-packages/tensorflow/python/ops/random_ops.py\", line 240, in random_uniform\n    shape, dtype, seed=seed1, seed2=seed2)\n  File \"/home/nakazawa/anaconda3/envs/py3-tf2-keras2/lib/python3.5/site-packages/tensorflow/python/ops/gen_random_ops.py\", line 247, in _random_uniform\n    seed=seed, seed2=seed2, name=name)\n  File \"/home/nakazawa/anaconda3/envs/py3-tf2-keras2/lib/python3.5/site-packages/tensorflow/python/framework/op_def_library.py\", line 767, in apply_op\n    op_def=op_def)\n  File \"/home/nakazawa/anaconda3/envs/py3-tf2-keras2/lib/python3.5/site-packages/tensorflow/python/framework/ops.py\", line 2630, in create_op\n    original_op=self._default_original_op, op_def=op_def)\n  File \"/home/nakazawa/anaconda3/envs/py3-tf2-keras2/lib/python3.5/site-packages/tensorflow/python/framework/ops.py\", line 1204, in __init__\n    self._traceback = self._graph._extract_stack()  # pylint: disable=protected-access\n\nResourceExhaustedError (see above for traceback): OOM when allocating tensor with shape[25088,4096]\n\t [[Node: fc1/random_uniform/RandomUniform = RandomUniform[T=DT_INT32, dtype=DT_FLOAT, seed=87654321, seed2=4048235, _device=\"/job:localhost/replica:0/task:0/gpu:0\"](fc1/random_uniform/shape)]]\n"
     ]
    }
   ],
   "source": [
    "    model = vgg19_lower_model()\n",
    "    model.summary()\n",
    "    out = model.predict(data, batch_size=32, verbose=1)\n",
    "\n",
    "    print(out.shape)"
   ]
  },
  {
   "cell_type": "code",
   "execution_count": 8,
   "metadata": {
    "collapsed": true
   },
   "outputs": [],
   "source": [
    "#    save_array_csv(\"out.csv\", out)\n",
    "#    np.save(\"out.npy\",out)"
   ]
  },
  {
   "cell_type": "code",
   "execution_count": 9,
   "metadata": {},
   "outputs": [
    {
     "name": "stdout",
     "output_type": "stream",
     "text": [
      "(184, 196, 512)\n"
     ]
    }
   ],
   "source": [
    "from scipy.cluster.vq import vq, kmeans, whiten\n",
    "from sklearn.preprocessing import StandardScaler\n",
    "\n",
    "data = np.reshape(out,(out.shape[0],out.shape[1]*out.shape[2],out.shape[3]))\n",
    "print(data.shape)"
   ]
  },
  {
   "cell_type": "code",
   "execution_count": 10,
   "metadata": {
    "collapsed": true
   },
   "outputs": [],
   "source": [
    "# data standlization\n",
    "data_for_cluster = np.reshape(data,(data.shape[0]*data.shape[1],data.shape[2]))\n",
    "\n",
    "# standlization step\n",
    "me = np.mean(data_for_cluster,0)\n",
    "stv = np.std(data_for_cluster - me,0)\n",
    "#stv2 = np.std(data_for_cluster,0)\n",
    "#print(stv)\n",
    "#print(stv2)\n",
    "data_standlized = (data_for_cluster - me) / stv\n",
    "data_whitened = data_standlized"
   ]
  },
  {
   "cell_type": "code",
   "execution_count": 11,
   "metadata": {},
   "outputs": [
    {
     "name": "stdout",
     "output_type": "stream",
     "text": [
      "[[ 0.44781414  0.06399728 -0.16210803 ..., -0.19624718  0.29379928\n",
      "   0.35572395]\n",
      " [-0.26115152  0.2545622   0.0195284  ..., -0.2536979   0.93594474\n",
      "  -0.24854407]\n",
      " [ 0.08019625 -0.26907921 -0.21473019 ..., -0.27616391  0.22975214\n",
      "   0.65544939]\n",
      " ..., \n",
      " [-0.26356417 -0.06681782 -0.23421821 ...,  0.11267113  0.03093067\n",
      "   0.06003801]\n",
      " [-0.26848403 -0.12055506 -0.0354185  ...,  0.0983579  -0.13180141\n",
      "  -0.20948291]\n",
      " [-0.26217619 -0.07172839 -0.19674128 ..., -0.38899919 -0.33530885\n",
      "  -0.3005985 ]]\n",
      "18.1327\n",
      "(36064, 512)\n"
     ]
    }
   ],
   "source": [
    "# whiteneing step\n",
    "#data_whitened = whiten(data_for_cluster)\n",
    "#print(data_whitened)\n",
    "#print(np.std(data_whitened,0))\n",
    "centers, distortion = kmeans(data_whitened,200)\n",
    "print(centers)\n",
    "print(distortion)\n",
    "print(data_whitened.shape)"
   ]
  },
  {
   "cell_type": "code",
   "execution_count": 12,
   "metadata": {
    "collapsed": true
   },
   "outputs": [],
   "source": [
    "#data = np.random.rand(100,5)\n",
    "#standardized_data = StandardScaler().fit_transform(data)\n",
    "#print(np.mean(standardized_data,0))"
   ]
  },
  {
   "cell_type": "code",
   "execution_count": 13,
   "metadata": {
    "collapsed": true
   },
   "outputs": [],
   "source": [
    "#np.save(\"data_whitened.npy\",data_whitened)\n",
    "np.save(\"data\",data)\n",
    "np.save(\"centers.npy\",centers)\n",
    "np.save(\"mean.npy\",me)\n",
    "np.save(\"stv.npy\",stv)"
   ]
  },
  {
   "cell_type": "code",
   "execution_count": null,
   "metadata": {
    "collapsed": true
   },
   "outputs": [],
   "source": []
  }
 ],
 "metadata": {
  "kernelspec": {
   "display_name": "Python [default]",
   "language": "python",
   "name": "python3"
  },
  "language_info": {
   "codemirror_mode": {
    "name": "ipython",
    "version": 3
   },
   "file_extension": ".py",
   "mimetype": "text/x-python",
   "name": "python",
   "nbconvert_exporter": "python",
   "pygments_lexer": "ipython3",
   "version": "3.5.4"
  }
 },
 "nbformat": 4,
 "nbformat_minor": 2
}
